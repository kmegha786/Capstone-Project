{
 "cells": [
  {
   "cell_type": "code",
   "execution_count": 13,
   "id": "32a26471",
   "metadata": {},
   "outputs": [],
   "source": [
    "import pandas as pd\n",
    "import numpy as np\n",
    "import seaborn as sns\n",
    "import matplotlib.pyplot as plt\n",
    "import warnings\n",
    "warnings.filterwarnings('ignore')\n",
    "from sklearn.model_selection import train_test_split\n",
    "from sklearn.ensemble import RandomForestClassifier\n",
    "from sklearn.metrics import accuracy_score\n",
    "from sklearn.preprocessing import LabelEncoder\n"
   ]
  },
  {
   "cell_type": "code",
   "execution_count": 2,
   "id": "8db7bba3",
   "metadata": {},
   "outputs": [],
   "source": [
    "data=pd.read_csv(r\"C:\\Users\\HRIDVI ARORA\\OneDrive\\Desktop\\rental_data.csv\")"
   ]
  },
  {
   "cell_type": "code",
   "execution_count": 3,
   "id": "63fd0be9",
   "metadata": {},
   "outputs": [
    {
     "data": {
      "text/html": [
       "<div>\n",
       "<style scoped>\n",
       "    .dataframe tbody tr th:only-of-type {\n",
       "        vertical-align: middle;\n",
       "    }\n",
       "\n",
       "    .dataframe tbody tr th {\n",
       "        vertical-align: top;\n",
       "    }\n",
       "\n",
       "    .dataframe thead th {\n",
       "        text-align: right;\n",
       "    }\n",
       "</style>\n",
       "<table border=\"1\" class=\"dataframe\">\n",
       "  <thead>\n",
       "    <tr style=\"text-align: right;\">\n",
       "      <th></th>\n",
       "      <th>Address</th>\n",
       "      <th>Rent</th>\n",
       "      <th>Deposit</th>\n",
       "      <th>Beds</th>\n",
       "      <th>Baths</th>\n",
       "      <th>Area</th>\n",
       "      <th>Pets_Allowed</th>\n",
       "      <th>Washer/Dryer</th>\n",
       "      <th>AC</th>\n",
       "      <th>Parking</th>\n",
       "      <th>Fireplace</th>\n",
       "      <th>Dishwasher</th>\n",
       "      <th>Hardwood_Floors</th>\n",
       "      <th>Roofdeck_Storage</th>\n",
       "    </tr>\n",
       "  </thead>\n",
       "  <tbody>\n",
       "    <tr>\n",
       "      <th>0</th>\n",
       "      <td>Tata New Haven Crest, Maan, Boisar, Mumbai</td>\n",
       "      <td>30,000</td>\n",
       "      <td>1.0 Lac</td>\n",
       "      <td>4 BHK Independent House for Rent</td>\n",
       "      <td>1</td>\n",
       "      <td>1700 sq.ft</td>\n",
       "      <td>No</td>\n",
       "      <td>No</td>\n",
       "      <td>No</td>\n",
       "      <td>No</td>\n",
       "      <td>No</td>\n",
       "      <td>No</td>\n",
       "      <td>No</td>\n",
       "      <td>No</td>\n",
       "    </tr>\n",
       "    <tr>\n",
       "      <th>1</th>\n",
       "      <td>Unnat Nagar, Motilal Nagar II, Goregaon West, ...</td>\n",
       "      <td>26,500</td>\n",
       "      <td>1.0 Lac</td>\n",
       "      <td>1 BHK Independent House for Rent</td>\n",
       "      <td>1</td>\n",
       "      <td>322 sq.ft</td>\n",
       "      <td>No</td>\n",
       "      <td>No</td>\n",
       "      <td>No</td>\n",
       "      <td>No</td>\n",
       "      <td>No</td>\n",
       "      <td>No</td>\n",
       "      <td>No</td>\n",
       "      <td>No</td>\n",
       "    </tr>\n",
       "    <tr>\n",
       "      <th>2</th>\n",
       "      <td>CR Villa, Bandra West, Mumbai</td>\n",
       "      <td>11,50,000</td>\n",
       "      <td>66.0 Lacs</td>\n",
       "      <td>4 BHK Independent House for Rent</td>\n",
       "      <td>4</td>\n",
       "      <td>0</td>\n",
       "      <td>No</td>\n",
       "      <td>No</td>\n",
       "      <td>Yes</td>\n",
       "      <td>No</td>\n",
       "      <td>No</td>\n",
       "      <td>No</td>\n",
       "      <td>No</td>\n",
       "      <td>No</td>\n",
       "    </tr>\n",
       "  </tbody>\n",
       "</table>\n",
       "</div>"
      ],
      "text/plain": [
       "                                             Address       Rent    Deposit  \\\n",
       "0         Tata New Haven Crest, Maan, Boisar, Mumbai     30,000    1.0 Lac   \n",
       "1  Unnat Nagar, Motilal Nagar II, Goregaon West, ...     26,500    1.0 Lac   \n",
       "2                      CR Villa, Bandra West, Mumbai  11,50,000  66.0 Lacs   \n",
       "\n",
       "                               Beds Baths        Area Pets_Allowed  \\\n",
       "0  4 BHK Independent House for Rent     1  1700 sq.ft           No   \n",
       "1  1 BHK Independent House for Rent     1   322 sq.ft           No   \n",
       "2  4 BHK Independent House for Rent     4           0           No   \n",
       "\n",
       "  Washer/Dryer   AC Parking Fireplace Dishwasher Hardwood_Floors  \\\n",
       "0           No   No      No        No         No              No   \n",
       "1           No   No      No        No         No              No   \n",
       "2           No  Yes      No        No         No              No   \n",
       "\n",
       "  Roofdeck_Storage  \n",
       "0               No  \n",
       "1               No  \n",
       "2               No  "
      ]
     },
     "execution_count": 3,
     "metadata": {},
     "output_type": "execute_result"
    }
   ],
   "source": [
    "data.head(3)"
   ]
  },
  {
   "cell_type": "code",
   "execution_count": 4,
   "id": "0838bd12",
   "metadata": {},
   "outputs": [
    {
     "data": {
      "text/plain": [
       "(18389, 14)"
      ]
     },
     "execution_count": 4,
     "metadata": {},
     "output_type": "execute_result"
    }
   ],
   "source": [
    "data.shape"
   ]
  },
  {
   "cell_type": "markdown",
   "id": "2a2a0ed1",
   "metadata": {},
   "source": [
    "The dataset contains 18389 rows and 14 columns."
   ]
  },
  {
   "cell_type": "code",
   "execution_count": 5,
   "id": "5ebf8963",
   "metadata": {},
   "outputs": [
    {
     "data": {
      "text/plain": [
       "Index(['Address', 'Rent', 'Deposit', 'Beds', 'Baths', 'Area', 'Pets_Allowed',\n",
       "       'Washer/Dryer', 'AC', 'Parking', 'Fireplace', 'Dishwasher',\n",
       "       'Hardwood_Floors', 'Roofdeck_Storage'],\n",
       "      dtype='object')"
      ]
     },
     "execution_count": 5,
     "metadata": {},
     "output_type": "execute_result"
    }
   ],
   "source": [
    "data.columns"
   ]
  },
  {
   "cell_type": "code",
   "execution_count": 6,
   "id": "8895a4eb",
   "metadata": {},
   "outputs": [
    {
     "data": {
      "text/plain": [
       "Address             0\n",
       "Rent                0\n",
       "Deposit             0\n",
       "Beds                0\n",
       "Baths               0\n",
       "Area                0\n",
       "Pets_Allowed        0\n",
       "Washer/Dryer        0\n",
       "AC                  0\n",
       "Parking             0\n",
       "Fireplace           0\n",
       "Dishwasher          0\n",
       "Hardwood_Floors     0\n",
       "Roofdeck_Storage    0\n",
       "dtype: int64"
      ]
     },
     "execution_count": 6,
     "metadata": {},
     "output_type": "execute_result"
    }
   ],
   "source": [
    "# Checking the null values.\n",
    "\n",
    "data.isnull().sum()"
   ]
  },
  {
   "cell_type": "code",
   "execution_count": 7,
   "id": "8d7c3a60",
   "metadata": {},
   "outputs": [
    {
     "data": {
      "text/plain": [
       "Address             object\n",
       "Rent                object\n",
       "Deposit             object\n",
       "Beds                object\n",
       "Baths               object\n",
       "Area                object\n",
       "Pets_Allowed        object\n",
       "Washer/Dryer        object\n",
       "AC                  object\n",
       "Parking             object\n",
       "Fireplace           object\n",
       "Dishwasher          object\n",
       "Hardwood_Floors     object\n",
       "Roofdeck_Storage    object\n",
       "dtype: object"
      ]
     },
     "execution_count": 7,
     "metadata": {},
     "output_type": "execute_result"
    }
   ],
   "source": [
    "# Checking the datatypes.\n",
    "\n",
    "data.dtypes"
   ]
  },
  {
   "cell_type": "code",
   "execution_count": 8,
   "id": "b20a5a96",
   "metadata": {},
   "outputs": [
    {
     "name": "stdout",
     "output_type": "stream",
     "text": [
      "<class 'pandas.core.frame.DataFrame'>\n",
      "RangeIndex: 18389 entries, 0 to 18388\n",
      "Data columns (total 14 columns):\n",
      " #   Column            Non-Null Count  Dtype \n",
      "---  ------            --------------  ----- \n",
      " 0   Address           18389 non-null  object\n",
      " 1   Rent              18389 non-null  object\n",
      " 2   Deposit           18389 non-null  object\n",
      " 3   Beds              18389 non-null  object\n",
      " 4   Baths             18389 non-null  object\n",
      " 5   Area              18389 non-null  object\n",
      " 6   Pets_Allowed      18389 non-null  object\n",
      " 7   Washer/Dryer      18389 non-null  object\n",
      " 8   AC                18389 non-null  object\n",
      " 9   Parking           18389 non-null  object\n",
      " 10  Fireplace         18389 non-null  object\n",
      " 11  Dishwasher        18389 non-null  object\n",
      " 12  Hardwood_Floors   18389 non-null  object\n",
      " 13  Roofdeck_Storage  18389 non-null  object\n",
      "dtypes: object(14)\n",
      "memory usage: 2.0+ MB\n"
     ]
    }
   ],
   "source": [
    "data.info()"
   ]
  },
  {
   "cell_type": "code",
   "execution_count": 14,
   "id": "2af860d3",
   "metadata": {},
   "outputs": [],
   "source": [
    "label_encoder = LabelEncoder()\n",
    "for col in data.columns:\n",
    "    if data[col].dtype == 'object':\n",
    "        data[col] = label_encoder.fit_transform(data[col])\n"
   ]
  },
  {
   "cell_type": "code",
   "execution_count": 16,
   "id": "26765127",
   "metadata": {},
   "outputs": [
    {
     "data": {
      "text/plain": [
       "Address             int32\n",
       "Rent                int32\n",
       "Deposit             int32\n",
       "Beds                int32\n",
       "Baths               int32\n",
       "Area                int32\n",
       "Pets_Allowed        int32\n",
       "Washer/Dryer        int32\n",
       "AC                  int32\n",
       "Parking             int32\n",
       "Fireplace           int32\n",
       "Dishwasher          int32\n",
       "Hardwood_Floors     int32\n",
       "Roofdeck_Storage    int32\n",
       "dtype: object"
      ]
     },
     "execution_count": 16,
     "metadata": {},
     "output_type": "execute_result"
    }
   ],
   "source": [
    "data.dtypes"
   ]
  },
  {
   "cell_type": "code",
   "execution_count": 21,
   "id": "4aba013d",
   "metadata": {},
   "outputs": [],
   "source": [
    "from sklearn.ensemble import RandomForestRegressor\n",
    "from sklearn.model_selection import train_test_split\n",
    "from sklearn.metrics import r2_score,accuracy_score\n",
    "from sklearn.metrics import mean_squared_error,mean_absolute_error"
   ]
  },
  {
   "cell_type": "markdown",
   "id": "fa29233a",
   "metadata": {},
   "source": [
    "# Random Forest"
   ]
  },
  {
   "cell_type": "code",
   "execution_count": 22,
   "id": "5388ae2b",
   "metadata": {},
   "outputs": [],
   "source": [
    "rf=RandomForestRegressor()"
   ]
  },
  {
   "cell_type": "code",
   "execution_count": 26,
   "id": "e8e63fcd",
   "metadata": {},
   "outputs": [
    {
     "name": "stdout",
     "output_type": "stream",
     "text": [
      "Best accuracy is  0.9999392503142703 at random_state 5\n"
     ]
    }
   ],
   "source": [
    "max_acc=0\n",
    "max_rs=0\n",
    "\n",
    "for i in range(0,100):\n",
    "    X_train,X_test,y_train,y_test=train_test_split(X,y,random_state=i,test_size=0.20)\n",
    "    rf.fit(X_train,y_train)\n",
    "    pred_rf=rf.predict(X_test)\n",
    "    accuracy=r2_score(y_test,pred_rf)\n",
    "    \n",
    "    if accuracy>max_acc:\n",
    "        max_acc=accuracy\n",
    "        max_rs=i\n",
    "print(\"Best accuracy is \",max_acc,\"at random_state\",max_rs)\n",
    "        "
   ]
  },
  {
   "cell_type": "code",
   "execution_count": 27,
   "id": "3e0bcbed",
   "metadata": {},
   "outputs": [],
   "source": [
    "X_train,X_test,y_train,y_test=train_test_split(X,y,test_size=0.2,random_state=max_rs)"
   ]
  },
  {
   "cell_type": "code",
   "execution_count": 29,
   "id": "4d73a3a6",
   "metadata": {},
   "outputs": [
    {
     "data": {
      "text/plain": [
       "RandomForestRegressor()"
      ]
     },
     "execution_count": 29,
     "metadata": {},
     "output_type": "execute_result"
    }
   ],
   "source": [
    "rf.fit(X_train,y_train)"
   ]
  },
  {
   "cell_type": "code",
   "execution_count": 31,
   "id": "5d307eda",
   "metadata": {},
   "outputs": [
    {
     "name": "stdout",
     "output_type": "stream",
     "text": [
      "0.9999403379867509\n"
     ]
    }
   ],
   "source": [
    "pred_test_y=rf.predict(X_test)\n",
    "print(r2_score(y_test,pred_test_y))"
   ]
  },
  {
   "cell_type": "code",
   "execution_count": 32,
   "id": "fd7d0532",
   "metadata": {},
   "outputs": [
    {
     "name": "stdout",
     "output_type": "stream",
     "text": [
      "MAE: 0.013215018769034593\n",
      "MSE: 0.043680197272110234\n",
      "RMSE: 0.20899807958952693\n"
     ]
    }
   ],
   "source": [
    "# Mean Absolute Error (MAE)\n",
    "print(\"MAE:\",mean_absolute_error(y_test,pred_test_y))\n",
    "\n",
    "#Mean Squared Error (MSE)\n",
    "print(\"MSE:\",mean_squared_error(y_test,pred_test_y))\n",
    "print(\"RMSE:\",np.sqrt(mean_squared_error(y_test,pred_test_y)))"
   ]
  },
  {
   "cell_type": "markdown",
   "id": "74161e86",
   "metadata": {},
   "source": [
    "# Decision Tree"
   ]
  },
  {
   "cell_type": "code",
   "execution_count": 33,
   "id": "52dfe5b3",
   "metadata": {},
   "outputs": [],
   "source": [
    "from sklearn.tree import DecisionTreeRegressor"
   ]
  },
  {
   "cell_type": "code",
   "execution_count": 34,
   "id": "a62d16f9",
   "metadata": {},
   "outputs": [],
   "source": [
    "dt=DecisionTreeRegressor()"
   ]
  },
  {
   "cell_type": "code",
   "execution_count": 35,
   "id": "3c879673",
   "metadata": {},
   "outputs": [
    {
     "data": {
      "text/plain": [
       "DecisionTreeRegressor()"
      ]
     },
     "execution_count": 35,
     "metadata": {},
     "output_type": "execute_result"
    }
   ],
   "source": [
    "dt.fit(X_train,y_train)"
   ]
  },
  {
   "cell_type": "code",
   "execution_count": 36,
   "id": "2d3d4b4c",
   "metadata": {},
   "outputs": [
    {
     "name": "stdout",
     "output_type": "stream",
     "text": [
      "0.9999395919527562\n"
     ]
    }
   ],
   "source": [
    "pred_test_y=dt.predict(X_test)\n",
    "print(r2_score(y_test,pred_test_y))"
   ]
  },
  {
   "cell_type": "code",
   "execution_count": 37,
   "id": "18fe83d4",
   "metadata": {},
   "outputs": [
    {
     "name": "stdout",
     "output_type": "stream",
     "text": [
      "MAE: 0.012486487548890505\n",
      "MSE: 0.04422638923389463\n",
      "RMSE: 0.21030071144410004\n"
     ]
    }
   ],
   "source": [
    "# Mean Absolute Error (MAE)\n",
    "print(\"MAE:\",mean_absolute_error(y_test,pred_test_y))\n",
    "\n",
    "#Mean Squared Error (MSE)\n",
    "print(\"MSE:\",mean_squared_error(y_test,pred_test_y))\n",
    "print(\"RMSE:\",np.sqrt(mean_squared_error(y_test,pred_test_y)))"
   ]
  },
  {
   "cell_type": "markdown",
   "id": "aa101e48",
   "metadata": {},
   "source": [
    "# Ada Boost"
   ]
  },
  {
   "cell_type": "code",
   "execution_count": 38,
   "id": "16b5b3ce",
   "metadata": {},
   "outputs": [],
   "source": [
    "from sklearn.ensemble import AdaBoostRegressor"
   ]
  },
  {
   "cell_type": "code",
   "execution_count": 39,
   "id": "2be2faae",
   "metadata": {},
   "outputs": [],
   "source": [
    "ada=AdaBoostRegressor()"
   ]
  },
  {
   "cell_type": "code",
   "execution_count": 40,
   "id": "881f7214",
   "metadata": {},
   "outputs": [
    {
     "data": {
      "text/plain": [
       "AdaBoostRegressor()"
      ]
     },
     "execution_count": 40,
     "metadata": {},
     "output_type": "execute_result"
    }
   ],
   "source": [
    "ada.fit(X_train,y_train)"
   ]
  },
  {
   "cell_type": "code",
   "execution_count": 41,
   "id": "6eca2242",
   "metadata": {},
   "outputs": [
    {
     "name": "stdout",
     "output_type": "stream",
     "text": [
      "0.14520864366627062\n"
     ]
    }
   ],
   "source": [
    "pred_test_y=ada.predict(X_test)\n",
    "print(r2_score(y_test,pred_test_y))"
   ]
  },
  {
   "cell_type": "code",
   "execution_count": 42,
   "id": "bb3d983f",
   "metadata": {},
   "outputs": [
    {
     "name": "stdout",
     "output_type": "stream",
     "text": [
      "MAE: 21.529642204048994\n",
      "MSE: 625.8162109821922\n",
      "RMSE: 25.01631889351813\n"
     ]
    }
   ],
   "source": [
    "# Mean Absolute Error (MAE)\n",
    "print(\"MAE:\",mean_absolute_error(y_test,pred_test_y))\n",
    "\n",
    "#Mean Squared Error (MSE)\n",
    "print(\"MSE:\",mean_squared_error(y_test,pred_test_y))\n",
    "print(\"RMSE:\",np.sqrt(mean_squared_error(y_test,pred_test_y)))"
   ]
  },
  {
   "cell_type": "markdown",
   "id": "afa48f03",
   "metadata": {},
   "source": [
    "# Support Vector Machine(SVM)"
   ]
  },
  {
   "cell_type": "code",
   "execution_count": 43,
   "id": "14bf5d97",
   "metadata": {},
   "outputs": [],
   "source": [
    "from sklearn.svm import SVR"
   ]
  },
  {
   "cell_type": "code",
   "execution_count": 44,
   "id": "57d478e0",
   "metadata": {},
   "outputs": [],
   "source": [
    "svm=SVR()"
   ]
  },
  {
   "cell_type": "code",
   "execution_count": 45,
   "id": "faf3d3f2",
   "metadata": {},
   "outputs": [
    {
     "data": {
      "text/plain": [
       "SVR()"
      ]
     },
     "execution_count": 45,
     "metadata": {},
     "output_type": "execute_result"
    }
   ],
   "source": [
    "svm.fit(X_train,y_train)"
   ]
  },
  {
   "cell_type": "code",
   "execution_count": 46,
   "id": "1c2659c4",
   "metadata": {},
   "outputs": [
    {
     "name": "stdout",
     "output_type": "stream",
     "text": [
      "0.012052825148774704\n"
     ]
    }
   ],
   "source": [
    "pred_test_y=svm.predict(X_test)\n",
    "print(r2_score(y_test,pred_test_y))"
   ]
  },
  {
   "cell_type": "code",
   "execution_count": 47,
   "id": "47e36d23",
   "metadata": {},
   "outputs": [
    {
     "name": "stdout",
     "output_type": "stream",
     "text": [
      "MAE: 21.89892234731957\n",
      "MSE: 723.3032400652488\n",
      "RMSE: 26.89429753805161\n"
     ]
    }
   ],
   "source": [
    "# Mean Absolute Error (MAE)\n",
    "print(\"MAE:\",mean_absolute_error(y_test,pred_test_y))\n",
    "\n",
    "#Mean Squared Error (MSE)\n",
    "print(\"MSE:\",mean_squared_error(y_test,pred_test_y))\n",
    "print(\"RMSE:\",np.sqrt(mean_squared_error(y_test,pred_test_y)))"
   ]
  },
  {
   "cell_type": "markdown",
   "id": "89fcb241",
   "metadata": {},
   "source": [
    "# Bagging Regressor"
   ]
  },
  {
   "cell_type": "code",
   "execution_count": 48,
   "id": "06c11022",
   "metadata": {},
   "outputs": [],
   "source": [
    "from sklearn.ensemble import BaggingRegressor"
   ]
  },
  {
   "cell_type": "code",
   "execution_count": 49,
   "id": "729bf84e",
   "metadata": {},
   "outputs": [],
   "source": [
    "Bag_reg=BaggingRegressor()"
   ]
  },
  {
   "cell_type": "code",
   "execution_count": 50,
   "id": "de17401b",
   "metadata": {},
   "outputs": [
    {
     "data": {
      "text/plain": [
       "BaggingRegressor()"
      ]
     },
     "execution_count": 50,
     "metadata": {},
     "output_type": "execute_result"
    }
   ],
   "source": [
    "Bag_reg.fit(X_train,y_train)"
   ]
  },
  {
   "cell_type": "code",
   "execution_count": 51,
   "id": "11cb39e6",
   "metadata": {},
   "outputs": [
    {
     "name": "stdout",
     "output_type": "stream",
     "text": [
      "0.9999424651057147\n"
     ]
    }
   ],
   "source": [
    "pred_test_y=Bag_reg.predict(X_test)\n",
    "print(r2_score(y_test,pred_test_y))"
   ]
  },
  {
   "cell_type": "code",
   "execution_count": 52,
   "id": "e4fe8765",
   "metadata": {},
   "outputs": [
    {
     "name": "stdout",
     "output_type": "stream",
     "text": [
      "0.9999424651057147\n"
     ]
    }
   ],
   "source": [
    "pred_test_y=Bag_reg.predict(X_test)\n",
    "print(r2_score(y_test,pred_test_y))"
   ]
  },
  {
   "cell_type": "markdown",
   "id": "84521ff7",
   "metadata": {},
   "source": [
    "# Cross Validation"
   ]
  },
  {
   "cell_type": "code",
   "execution_count": 55,
   "id": "2db8a37d",
   "metadata": {},
   "outputs": [
    {
     "name": "stdout",
     "output_type": "stream",
     "text": [
      "At cross fold 2 the cv score is 0.6549037215554585\n",
      "At cross fold 3 the cv score is 0.9645888898201597\n",
      "At cross fold 4 the cv score is 0.9663577870829285\n",
      "At cross fold 5 the cv score is 0.9634380501499382\n",
      "At cross fold 6 the cv score is 0.9635740916431801\n",
      "At cross fold 7 the cv score is 0.9641284362036366\n",
      "At cross fold 8 the cv score is 0.9623436795825815\n",
      "At cross fold 9 the cv score is 0.9632259615723756\n"
     ]
    }
   ],
   "source": [
    "#Finding best cross val score\n",
    "y_train_pred=rf.predict(X_train)\n",
    "Train_accuracy=r2_score(y_train,y_train_pred)\n",
    "Test_accuracy=r2_score(y_test,pred_test_y)\n",
    "\n",
    "\n",
    "from sklearn.model_selection import cross_val_score\n",
    "\n",
    "for j in range(2,10):\n",
    "    cv_score=cross_val_score(rf,X,y,cv=j)\n",
    "    cv_mean=cv_score.mean()\n",
    "    print(f\"At cross fold {j} the cv score is {cv_mean}\")"
   ]
  },
  {
   "cell_type": "code",
   "execution_count": 57,
   "id": "a91db81c",
   "metadata": {},
   "outputs": [
    {
     "name": "stdout",
     "output_type": "stream",
     "text": [
      "the cross validation score for SVM is  0.011535955490377257\n",
      "the cross validation score for ADA is  0.10779431645977244\n",
      "the cross validation score for RF is  0.9647930830030119\n",
      "the cross validation score for Bagging Classifier is  0.9647307514451742\n",
      "the cross validation score for DT is  0.9598232297082792\n"
     ]
    }
   ],
   "source": [
    "from sklearn.model_selection import cross_val_score\n",
    "\n",
    "lssscore_selected=cross_val_score(svm,X,y,cv=7).mean()\n",
    "print(\"the cross validation score for SVM is \",lssscore_selected)\n",
    "\n",
    "\n",
    "lssscore_selected=cross_val_score(ada,X,y,cv=7).mean()\n",
    "print(\"the cross validation score for ADA is \",lssscore_selected)\n",
    "\n",
    "lssscore_selected=cross_val_score(rf,X,y,cv=7).mean()\n",
    "print(\"the cross validation score for RF is \",lssscore_selected)\n",
    "\n",
    "lssscore_selected=cross_val_score(Bag_reg,X,y,cv=7).mean()\n",
    "print(\"the cross validation score for Bagging Classifier is \",lssscore_selected)\n",
    "\n",
    "lssscore_selected=cross_val_score(dt,X,y,cv=7).mean()\n",
    "print(\"the cross validation score for DT is \",lssscore_selected)"
   ]
  },
  {
   "cell_type": "code",
   "execution_count": null,
   "id": "1a32d0fa",
   "metadata": {},
   "outputs": [],
   "source": []
  }
 ],
 "metadata": {
  "kernelspec": {
   "display_name": "Python 3 (ipykernel)",
   "language": "python",
   "name": "python3"
  },
  "language_info": {
   "codemirror_mode": {
    "name": "ipython",
    "version": 3
   },
   "file_extension": ".py",
   "mimetype": "text/x-python",
   "name": "python",
   "nbconvert_exporter": "python",
   "pygments_lexer": "ipython3",
   "version": "3.9.13"
  }
 },
 "nbformat": 4,
 "nbformat_minor": 5
}
